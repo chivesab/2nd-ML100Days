import numpy as np
import matplotlib.pyplot as plt


w = 3
b = 0.5
x_lin = np.linspace(0,100,101)
y = (x_lin + np.random.rand(101)*5)*w+b
y_hat = x_lin*w+b

def mean_square_error(Y,Y_hat):
    mse = sum(np.square(Y-Y_hat))/len(Y)
    return mse

MSE = mean_square_error(y,y_hat)
print("The Mean square error is %.3f" %(MSE))


